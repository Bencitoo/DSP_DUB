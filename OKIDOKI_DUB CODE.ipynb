{
  "nbformat": 4,
  "nbformat_minor": 0,
  "metadata": {
    "colab": {
      "provenance": []
    },
    "kernelspec": {
      "name": "python3",
      "display_name": "Python 3"
    },
    "language_info": {
      "name": "python"
    }
  },
  "cells": [
    {
      "cell_type": "code",
      "source": [
        "#Installing pyworld for shifting voice accurate\n",
        "\n",
        "pip install pyworld"
      ],
      "metadata": {
        "id": "7R09EoFGtR7m",
        "colab": {
          "base_uri": "https://localhost:8080/"
        },
        "outputId": "e21e2120-0e8d-467e-c38f-b57221a2a573"
      },
      "execution_count": null,
      "outputs": [
        {
          "output_type": "stream",
          "name": "stdout",
          "text": [
            "Collecting pyworld\n",
            "  Downloading pyworld-0.3.4.tar.gz (251 kB)\n",
            "\u001b[?25l     \u001b[90m━━━━━━━━━━━━━━━━━━━━━━━━━━━━━━━━━━━━━━━━\u001b[0m \u001b[32m0.0/252.0 kB\u001b[0m \u001b[31m?\u001b[0m eta \u001b[36m-:--:--\u001b[0m\r\u001b[2K     \u001b[91m━━━━━━━━━━━━━━\u001b[0m\u001b[91m╸\u001b[0m\u001b[90m━━━━━━━━━━━━━━━━━━━━━━━━━\u001b[0m \u001b[32m92.2/252.0 kB\u001b[0m \u001b[31m2.7 MB/s\u001b[0m eta \u001b[36m0:00:01\u001b[0m\r\u001b[2K     \u001b[90m━━━━━━━━━━━━━━━━━━━━━━━━━━━━━━━━━━━━━━━\u001b[0m \u001b[32m252.0/252.0 kB\u001b[0m \u001b[31m4.7 MB/s\u001b[0m eta \u001b[36m0:00:00\u001b[0m\n",
            "\u001b[?25h  Installing build dependencies ... \u001b[?25l\u001b[?25hdone\n",
            "  Getting requirements to build wheel ... \u001b[?25l\u001b[?25hdone\n",
            "  Preparing metadata (pyproject.toml) ... \u001b[?25l\u001b[?25hdone\n",
            "Requirement already satisfied: numpy in /usr/local/lib/python3.10/dist-packages (from pyworld) (1.23.5)\n",
            "Requirement already satisfied: cython>=0.24 in /usr/local/lib/python3.10/dist-packages (from pyworld) (3.0.2)\n",
            "Building wheels for collected packages: pyworld\n",
            "  Building wheel for pyworld (pyproject.toml) ... \u001b[?25l\u001b[?25hdone\n",
            "  Created wheel for pyworld: filename=pyworld-0.3.4-cp310-cp310-linux_x86_64.whl size=864214 sha256=2a8557893ce689e2f82650c7550b83cb883cdae5f41377712a46ab269129d387\n",
            "  Stored in directory: /root/.cache/pip/wheels/66/09/8a/a1d79b73d59756f66e9bfe55a199840efc7473adb76ddacdfd\n",
            "Successfully built pyworld\n",
            "Installing collected packages: pyworld\n",
            "Successfully installed pyworld-0.3.4\n"
          ]
        }
      ]
    },
    {
      "cell_type": "markdown",
      "source": [
        "**MYLEN CODE**"
      ],
      "metadata": {
        "id": "J6GmW6STLjif"
      }
    },
    {
      "cell_type": "code",
      "source": [
        "import numpy as np\n",
        "import scipy.signal as signal\n",
        "import librosa\n",
        "import soundfile as sf\n",
        "import pyworld as pw\n",
        "\n",
        "# Load the audio file\n",
        "audio_file, sr = librosa.load('/content/drive/MyDrive/PRELIM DB/MYLEN/mymy.wav', sr=None)\n",
        "\n",
        "# Adjust pitch shift accordingly for a male voice\n",
        "pitch_shift_factor = -3\n",
        "shifted_audio = librosa.effects.pitch_shift(audio_file, n_steps=pitch_shift_factor, sr=sr)\n",
        "\n",
        "# Extract fundamental frequency (F0) and spectral envelope\n",
        "f0, sp, ap = pw.wav2world(shifted_audio.astype(np.float64), sr)\n",
        "\n",
        "# Adjust the fundamental frequency to make it sound more masculine\n",
        "f0_male = f0 * 0.8\n",
        "\n",
        "# Synthesize the male voice using the modified F0 and original spectral envelope\n",
        "synthesized_audio = pw.synthesize(f0_male, sp, ap, sr)\n",
        "\n",
        "# Adjust the time-stretching factor to control the speed\n",
        "time_stretch_factor = 1.1\n",
        "stretched_audio = librosa.resample(synthesized_audio, orig_sr=sr, target_sr=int(sr * time_stretch_factor))\n",
        "\n",
        "# Adjust the cutoff frequency as needed for filtering\n",
        "cutoff_hz = 4000\n",
        "nyquist = 0.5 * sr\n",
        "normal_cutoff = cutoff_hz / nyquist\n",
        "\n",
        "# Design a low-pass Butterworth filter\n",
        "b, a = signal.butter(6, normal_cutoff, btype='low', analog=False)\n",
        "\n",
        "# Apply the filter to the audio\n",
        "filtered_audio = signal.filtfilt(b, a, stretched_audio)\n",
        "\n",
        "# Save the processed audio as a WAV file\n",
        "sf.write('/content/drive/MyDrive/PRELIM DB/EDITED/mylen_male.wav', filtered_audio, sr)"
      ],
      "metadata": {
        "colab": {
          "base_uri": "https://localhost:8080/"
        },
        "id": "iro-3dpixVYR",
        "outputId": "c11d8b66-c56d-4442-8463-87c71bcea66f"
      },
      "execution_count": null,
      "outputs": [
        {
          "output_type": "stream",
          "name": "stderr",
          "text": [
            "<ipython-input-11-8bcd3512fed6>:8: UserWarning: PySoundFile failed. Trying audioread instead.\n",
            "  audio_file, sr = librosa.load('/content/drive/MyDrive/PRELIM DB/MYLEN/mymy.wav', sr=None)\n",
            "/usr/local/lib/python3.10/dist-packages/librosa/core/audio.py:183: FutureWarning: librosa.core.audio.__audioread_load\n",
            "\tDeprecated as of librosa version 0.10.0.\n",
            "\tIt will be removed in librosa version 1.0.\n",
            "  y, sr_native = __audioread_load(path, offset, duration, dtype)\n"
          ]
        }
      ]
    },
    {
      "cell_type": "markdown",
      "source": [
        "**This code employs a series of audio processing steps to transform a female voice into a male voice. It involves loading the initial audio, adjusting the pitch, modifying the frequency characteristics, synthesizing a male-like voice, and applying time-stretching and low-pass filtering effects. Before running the code, it is essential to install the 'pyworld' library using 'pip install pyworld'. Customization options include tuning parameters such as pitch shift, frequency adjustment, and time stretch to achieve the desired male voice effect.**"
      ],
      "metadata": {
        "id": "9rLZixUN94_v"
      }
    },
    {
      "cell_type": "markdown",
      "source": [
        "**BENCITO CODE**"
      ],
      "metadata": {
        "id": "KQE1eb_SLck7"
      }
    },
    {
      "cell_type": "code",
      "source": [
        "import numpy as np\n",
        "import scipy.signal as signal\n",
        "import librosa\n",
        "import soundfile as sf\n",
        "import pyworld as pw\n",
        "\n",
        "\n",
        "audio_file, sr = librosa.load('/content/drive/MyDrive/PRELIM DB/BENCITO/Babalu_new.wav', sr=None)\n",
        "\n",
        "pitch_shift_factor = 2.5\n",
        "shifted_audio = librosa.effects.pitch_shift(audio_file, n_steps=pitch_shift_factor, sr=sr)\n",
        "\n",
        "f0, sp, ap = pw.wav2world(shifted_audio.astype(np.float64), sr)\n",
        "\n",
        "f0_female = f0 * 1.7\n",
        "\n",
        "synthesized_audio = pw.synthesize(f0_female, sp, ap, sr, pw.default_frame_period)\n",
        "\n",
        "# Experiment with different values\n",
        "cutoff_hz = 12000\n",
        "nyquist = 0.5 * sr\n",
        "normal_cutoff = cutoff_hz / nyquist\n",
        "\n",
        "b, a = signal.butter(6, normal_cutoff, btype='low', analog=False)\n",
        "\n",
        "filtered_audio = signal.filtfilt(b, a, synthesized_audio)\n",
        "\n",
        "output_filename = '/content/drive/MyDrive/PRELIM DB/EDITED/Bencito_real_girl.wav'\n",
        "sf.write(output_filename, filtered_audio, sr)\n"
      ],
      "metadata": {
        "colab": {
          "base_uri": "https://localhost:8080/"
        },
        "id": "l-rJ9bdR91x0",
        "outputId": "5b078a14-2eba-4c1f-ce78-23f28baa4ea0"
      },
      "execution_count": null,
      "outputs": [
        {
          "output_type": "stream",
          "name": "stderr",
          "text": [
            "<ipython-input-4-9878f927ff83>:8: UserWarning: PySoundFile failed. Trying audioread instead.\n",
            "  audio_file, sr = librosa.load('/content/drive/MyDrive/PRELIM DB/BENCITO/Babalu_new.wav', sr=None)\n",
            "/usr/local/lib/python3.10/dist-packages/librosa/core/audio.py:183: FutureWarning: librosa.core.audio.__audioread_load\n",
            "\tDeprecated as of librosa version 0.10.0.\n",
            "\tIt will be removed in librosa version 1.0.\n",
            "  y, sr_native = __audioread_load(path, offset, duration, dtype)\n"
          ]
        }
      ]
    },
    {
      "cell_type": "markdown",
      "source": [
        "**This code transforms an audio file, initially a male voice, into a cute girl's voice. It achieves this by adjusting the pitch, synthesizing a girl-like voice, and applying a low-pass filter to create a desirable effect. Before running the code, ensure the 'pyworld' library is installed ('pip install pyworld'). Customize parameters like pitch shift and cutoff frequency for different voice effects. The resulting audio is saved as 'Bencito_real_girl.wav'.**"
      ],
      "metadata": {
        "id": "wNmAsopT-CzV"
      }
    },
    {
      "cell_type": "markdown",
      "source": [
        "**ARGENTE CODE**"
      ],
      "metadata": {
        "id": "nrPWPQhaLNQB"
      }
    },
    {
      "cell_type": "code",
      "source": [
        "import numpy as np\n",
        "import scipy.signal as signal\n",
        "import librosa\n",
        "import soundfile as sf\n",
        "import pyworld as pw\n",
        "\n",
        "# Load the audio file\n",
        "audio_file, sr = librosa.load('/content/drive/MyDrive/PRELIM DB/ARGENTE/bago_brent.wav', sr=None)\n",
        "\n",
        "# Adjust the pitch for a more feminine voice\n",
        "pitch_shift_factor = 2.5\n",
        "shifted_audio = librosa.effects.pitch_shift(audio_file, n_steps=pitch_shift_factor, sr=sr)\n",
        "\n",
        "# Extract fundamental frequency (F0) and spectral envelope\n",
        "f0, sp, ap = pw.wav2world(shifted_audio.astype(np.float64), sr)\n",
        "\n",
        "# Adjust the fundamental frequency for a more feminine voice\n",
        "f0_female = f0 * 1.7\n",
        "\n",
        "# Synthesize the girl voice using the modified F0 and original spectral envelope\n",
        "synthesized_audio = pw.synthesize(f0_female, sp, ap, sr, pw.default_frame_period)\n",
        "\n",
        "# Adjust the cutoff frequency as needed for filtering (higher cutoff for less noise effect)\n",
        "cutoff_hz = 12000\n",
        "nyquist = 0.5 * sr\n",
        "normal_cutoff = min(cutoff_hz / nyquist, 1.0)  # Ensure normal_cutoff is within the valid range\n",
        "if normal_cutoff >= 1.0:\n",
        "    normal_cutoff = 0.99  # Use a value slightly below 1.0 to avoid the error\n",
        "\n",
        "# Design a low-pass Butterworth filter\n",
        "b, a = signal.butter(6, normal_cutoff, btype='low', analog=False)\n",
        "\n",
        "# Apply the filter to the audio\n",
        "filtered_audio = signal.filtfilt(b, a, synthesized_audio)\n",
        "\n",
        "# Save the processed audio as a WAV file with a descriptive name\n",
        "output_filename = '/content/drive/MyDrive/PRELIM DB/EDITED/Argentes_real_girl.wav'\n",
        "sf.write(output_filename, filtered_audio, sr)"
      ],
      "metadata": {
        "colab": {
          "base_uri": "https://localhost:8080/"
        },
        "id": "4zb_ErgGBJi2",
        "outputId": "6b6eade5-85be-4b2e-bc98-2c0e4b22bd6c"
      },
      "execution_count": null,
      "outputs": [
        {
          "output_type": "stream",
          "name": "stderr",
          "text": [
            "<ipython-input-18-87a32a73da62>:8: UserWarning: PySoundFile failed. Trying audioread instead.\n",
            "  audio_file, sr = librosa.load('/content/drive/MyDrive/PRELIM DB/ARGENTE/bago_brent.wav', sr=None)\n",
            "/usr/local/lib/python3.10/dist-packages/librosa/core/audio.py:183: FutureWarning: librosa.core.audio.__audioread_load\n",
            "\tDeprecated as of librosa version 0.10.0.\n",
            "\tIt will be removed in librosa version 1.0.\n",
            "  y, sr_native = __audioread_load(path, offset, duration, dtype)\n"
          ]
        }
      ]
    },
    {
      "cell_type": "markdown",
      "source": [
        "**This code transforms an audio file, originally featuring a male voice, into a more feminine and girl-like voice. It achieves this by adjusting the pitch, synthesizing a feminine voice, and applying a low-pass filter to enhance the effect. Before running the code, ensure the 'pyworld' library is installed ('pip install pyworld'). Customize parameters such as pitch shift, cutoff frequency, and output filename for various voice effects. The resulting audio is saved as 'Argentes_real_girl.wav'.**"
      ],
      "metadata": {
        "id": "ZUK0Qb93-JwN"
      }
    }
  ]
}